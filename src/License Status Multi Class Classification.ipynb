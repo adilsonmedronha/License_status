{
 "cells": [
  {
   "cell_type": "markdown",
   "metadata": {},
   "source": [
    "# License Status Prediction - Multiclass Classification\n",
    "<hr style=\"border:1px solid gray\"> </hr>"
   ]
  },
  {
   "cell_type": "markdown",
   "metadata": {},
   "source": [
    "## Contents.\n",
    "\n",
    "    1. [x] Problem Description\n",
    "    2. [x] Data Exploration\n",
    "    3. [ ] Feature Selection\n",
    "    4. [ ] KNN Algorithm\n",
    "    5. [ ] Naive Bias\n",
    "    5. [ ] Logistic Regression\n",
    "    6. [ ] Decision Tree\n",
    "    \n",
    "    \n",
    "--------------------------------------------------------------------------------------------------------------------------------\n"
   ]
  },
  {
   "cell_type": "markdown",
   "metadata": {},
   "source": [
    "### Problem Description\n",
    "\n",
    "Based on the following license dataset (real world problem - which holds various information related the business license), I'am going to predict license status for the given business. Lets start with delving deep into the data.\n",
    "________________________________________________________________________________________________________________________________"
   ]
  },
  {
   "cell_type": "code",
   "execution_count": 124,
   "metadata": {},
   "outputs": [],
   "source": [
    "import pandas as pd\n",
    "import numpy as np\n",
    "import matplotlib.pyplot as plt\n",
    "# will make your plot outputs appear and be stored within the notebook.\n",
    "%matplotlib inline\n",
    "import os\n",
    "import category_encoders as ce"
   ]
  },
  {
   "cell_type": "code",
   "execution_count": 125,
   "metadata": {},
   "outputs": [
    {
     "name": "stderr",
     "output_type": "stream",
     "text": [
      "C:\\Users\\admed\\miniconda3\\envs\\venv_license_status\\lib\\site-packages\\IPython\\core\\interactiveshell.py:3251: DtypeWarning: Columns (9) have mixed types.Specify dtype option on import or set low_memory=False.\n",
      "  exec(code_obj, self.user_global_ns, self.user_ns)\n"
     ]
    },
    {
     "data": {
      "text/html": [
       "<div>\n",
       "<style scoped>\n",
       "    .dataframe tbody tr th:only-of-type {\n",
       "        vertical-align: middle;\n",
       "    }\n",
       "\n",
       "    .dataframe tbody tr th {\n",
       "        vertical-align: top;\n",
       "    }\n",
       "\n",
       "    .dataframe thead th {\n",
       "        text-align: right;\n",
       "    }\n",
       "</style>\n",
       "<table border=\"1\" class=\"dataframe\">\n",
       "  <thead>\n",
       "    <tr style=\"text-align: right;\">\n",
       "      <th></th>\n",
       "      <th>ID</th>\n",
       "      <th>LICENSE ID</th>\n",
       "      <th>ACCOUNT NUMBER</th>\n",
       "      <th>SITE NUMBER</th>\n",
       "      <th>LEGAL NAME</th>\n",
       "      <th>DOING BUSINESS AS NAME</th>\n",
       "      <th>ADDRESS</th>\n",
       "      <th>CITY</th>\n",
       "      <th>STATE</th>\n",
       "      <th>ZIP CODE</th>\n",
       "      <th>...</th>\n",
       "      <th>LICENSE TERM START DATE</th>\n",
       "      <th>LICENSE TERM EXPIRATION DATE</th>\n",
       "      <th>LICENSE APPROVED FOR ISSUANCE</th>\n",
       "      <th>DATE ISSUED</th>\n",
       "      <th>LICENSE STATUS CHANGE DATE</th>\n",
       "      <th>SSA</th>\n",
       "      <th>LATITUDE</th>\n",
       "      <th>LONGITUDE</th>\n",
       "      <th>LOCATION</th>\n",
       "      <th>LICENSE STATUS</th>\n",
       "    </tr>\n",
       "  </thead>\n",
       "  <tbody>\n",
       "    <tr>\n",
       "      <th>0</th>\n",
       "      <td>35342-20020816</td>\n",
       "      <td>1256593</td>\n",
       "      <td>32811</td>\n",
       "      <td>1</td>\n",
       "      <td>CARMEN CAHUE</td>\n",
       "      <td>CLAUDIA'S BRIDAL SHOP</td>\n",
       "      <td>2625 S CENTRAL PARK AVE  1</td>\n",
       "      <td>CHICAGO</td>\n",
       "      <td>IL</td>\n",
       "      <td>60623.0</td>\n",
       "      <td>...</td>\n",
       "      <td>2002-08-16T00:00:00</td>\n",
       "      <td>2003-08-15T00:00:00</td>\n",
       "      <td>2002-08-21T00:00:00</td>\n",
       "      <td>2006-04-11T00:00:00</td>\n",
       "      <td>NaN</td>\n",
       "      <td>25.0</td>\n",
       "      <td>41.843613</td>\n",
       "      <td>-87.714618</td>\n",
       "      <td>{'latitude': '41.843612879431845', 'longitude'...</td>\n",
       "      <td>AAI</td>\n",
       "    </tr>\n",
       "    <tr>\n",
       "      <th>1</th>\n",
       "      <td>1358463-20051116</td>\n",
       "      <td>1639294</td>\n",
       "      <td>262311</td>\n",
       "      <td>29</td>\n",
       "      <td>ISLA TROPICAL, INC.</td>\n",
       "      <td>ISLA TROPICAL</td>\n",
       "      <td>2825 W MONTROSE AVE</td>\n",
       "      <td>CHICAGO</td>\n",
       "      <td>IL</td>\n",
       "      <td>60618</td>\n",
       "      <td>...</td>\n",
       "      <td>2005-11-16T00:00:00</td>\n",
       "      <td>2006-11-15T00:00:00</td>\n",
       "      <td>2006-04-05T00:00:00</td>\n",
       "      <td>2006-06-12T00:00:00</td>\n",
       "      <td>2006-06-15T00:00:00</td>\n",
       "      <td>60.0</td>\n",
       "      <td>41.961132</td>\n",
       "      <td>-87.699626</td>\n",
       "      <td>{'latitude': '41.96113244107215', 'longitude':...</td>\n",
       "      <td>AAC</td>\n",
       "    </tr>\n",
       "    <tr>\n",
       "      <th>2</th>\n",
       "      <td>1980233-20090722</td>\n",
       "      <td>1980233</td>\n",
       "      <td>345008</td>\n",
       "      <td>1</td>\n",
       "      <td>DJS REMODELING</td>\n",
       "      <td>DJS REMODELING, INC.</td>\n",
       "      <td>1605  CLAVEY RD 1</td>\n",
       "      <td>HIGHLAND</td>\n",
       "      <td>IL</td>\n",
       "      <td>60035</td>\n",
       "      <td>...</td>\n",
       "      <td>2009-07-22T00:00:00</td>\n",
       "      <td>2011-07-15T00:00:00</td>\n",
       "      <td>2009-07-22T00:00:00</td>\n",
       "      <td>2009-07-22T00:00:00</td>\n",
       "      <td>NaN</td>\n",
       "      <td>NaN</td>\n",
       "      <td>NaN</td>\n",
       "      <td>NaN</td>\n",
       "      <td>NaN</td>\n",
       "      <td>AAI</td>\n",
       "    </tr>\n",
       "    <tr>\n",
       "      <th>3</th>\n",
       "      <td>1476582-20040211</td>\n",
       "      <td>1476582</td>\n",
       "      <td>273121</td>\n",
       "      <td>1</td>\n",
       "      <td>ALL-BRY CONSTRUCTION CO.</td>\n",
       "      <td>ALL-BRY CONSTRUCTION CO.</td>\n",
       "      <td>8  NORTH TRAIL</td>\n",
       "      <td>LEMONT</td>\n",
       "      <td>IL</td>\n",
       "      <td>60439</td>\n",
       "      <td>...</td>\n",
       "      <td>2004-02-11T00:00:00</td>\n",
       "      <td>2005-02-15T00:00:00</td>\n",
       "      <td>2004-02-10T00:00:00</td>\n",
       "      <td>2004-02-11T00:00:00</td>\n",
       "      <td>NaN</td>\n",
       "      <td>NaN</td>\n",
       "      <td>NaN</td>\n",
       "      <td>NaN</td>\n",
       "      <td>NaN</td>\n",
       "      <td>AAI</td>\n",
       "    </tr>\n",
       "    <tr>\n",
       "      <th>4</th>\n",
       "      <td>1141408-20080516</td>\n",
       "      <td>1896750</td>\n",
       "      <td>213785</td>\n",
       "      <td>1</td>\n",
       "      <td>MCDONOUGH MECHANICAL SERVICE</td>\n",
       "      <td>MCDONOUGH MECHANICAL SERVICE</td>\n",
       "      <td>4081  JOSEPH DR</td>\n",
       "      <td>WAUKEGAN</td>\n",
       "      <td>IL</td>\n",
       "      <td>60087</td>\n",
       "      <td>...</td>\n",
       "      <td>2008-05-16T00:00:00</td>\n",
       "      <td>2010-05-15T00:00:00</td>\n",
       "      <td>2008-06-04T00:00:00</td>\n",
       "      <td>2008-06-05T00:00:00</td>\n",
       "      <td>NaN</td>\n",
       "      <td>NaN</td>\n",
       "      <td>NaN</td>\n",
       "      <td>NaN</td>\n",
       "      <td>NaN</td>\n",
       "      <td>AAI</td>\n",
       "    </tr>\n",
       "  </tbody>\n",
       "</table>\n",
       "<p>5 rows × 32 columns</p>\n",
       "</div>"
      ],
      "text/plain": [
       "                 ID  LICENSE ID  ACCOUNT NUMBER  SITE NUMBER  \\\n",
       "0    35342-20020816     1256593           32811            1   \n",
       "1  1358463-20051116     1639294          262311           29   \n",
       "2  1980233-20090722     1980233          345008            1   \n",
       "3  1476582-20040211     1476582          273121            1   \n",
       "4  1141408-20080516     1896750          213785            1   \n",
       "\n",
       "                     LEGAL NAME        DOING BUSINESS AS NAME  \\\n",
       "0                  CARMEN CAHUE         CLAUDIA'S BRIDAL SHOP   \n",
       "1           ISLA TROPICAL, INC.                 ISLA TROPICAL   \n",
       "2                DJS REMODELING          DJS REMODELING, INC.   \n",
       "3      ALL-BRY CONSTRUCTION CO.      ALL-BRY CONSTRUCTION CO.   \n",
       "4  MCDONOUGH MECHANICAL SERVICE  MCDONOUGH MECHANICAL SERVICE   \n",
       "\n",
       "                      ADDRESS      CITY STATE ZIP CODE  ...  \\\n",
       "0  2625 S CENTRAL PARK AVE  1   CHICAGO    IL  60623.0  ...   \n",
       "1         2825 W MONTROSE AVE   CHICAGO    IL    60618  ...   \n",
       "2           1605  CLAVEY RD 1  HIGHLAND    IL    60035  ...   \n",
       "3              8  NORTH TRAIL    LEMONT    IL    60439  ...   \n",
       "4             4081  JOSEPH DR  WAUKEGAN    IL    60087  ...   \n",
       "\n",
       "   LICENSE TERM START DATE  LICENSE TERM EXPIRATION DATE  \\\n",
       "0      2002-08-16T00:00:00           2003-08-15T00:00:00   \n",
       "1      2005-11-16T00:00:00           2006-11-15T00:00:00   \n",
       "2      2009-07-22T00:00:00           2011-07-15T00:00:00   \n",
       "3      2004-02-11T00:00:00           2005-02-15T00:00:00   \n",
       "4      2008-05-16T00:00:00           2010-05-15T00:00:00   \n",
       "\n",
       "  LICENSE APPROVED FOR ISSUANCE          DATE ISSUED  \\\n",
       "0           2002-08-21T00:00:00  2006-04-11T00:00:00   \n",
       "1           2006-04-05T00:00:00  2006-06-12T00:00:00   \n",
       "2           2009-07-22T00:00:00  2009-07-22T00:00:00   \n",
       "3           2004-02-10T00:00:00  2004-02-11T00:00:00   \n",
       "4           2008-06-04T00:00:00  2008-06-05T00:00:00   \n",
       "\n",
       "   LICENSE STATUS CHANGE DATE   SSA   LATITUDE  LONGITUDE  \\\n",
       "0                         NaN  25.0  41.843613 -87.714618   \n",
       "1         2006-06-15T00:00:00  60.0  41.961132 -87.699626   \n",
       "2                         NaN   NaN        NaN        NaN   \n",
       "3                         NaN   NaN        NaN        NaN   \n",
       "4                         NaN   NaN        NaN        NaN   \n",
       "\n",
       "                                            LOCATION LICENSE STATUS  \n",
       "0  {'latitude': '41.843612879431845', 'longitude'...            AAI  \n",
       "1  {'latitude': '41.96113244107215', 'longitude':...            AAC  \n",
       "2                                                NaN            AAI  \n",
       "3                                                NaN            AAI  \n",
       "4                                                NaN            AAI  \n",
       "\n",
       "[5 rows x 32 columns]"
      ]
     },
     "execution_count": 125,
     "metadata": {},
     "output_type": "execute_result"
    }
   ],
   "source": [
    "df = pd.read_csv(\"../dataset/License_dataset.csv\")\n",
    "df.head()"
   ]
  },
  {
   "cell_type": "code",
   "execution_count": 126,
   "metadata": {},
   "outputs": [],
   "source": [
    "# change the columns name\n",
    "new_col_name = [col.replace(\" \", \"_\").lower() for col in df.columns]\n",
    "df.columns   = new_col_name"
   ]
  },
  {
   "cell_type": "markdown",
   "metadata": {},
   "source": [
    "## Variable Description\n",
    "\n",
    "**Dependent Variable**  <br>\n",
    "1. AAI - License status is issued <br>\n",
    "2. AAC - License status is cancelled <br>\n",
    "3. REV - License status is revoked <br>\n",
    "4. REA - License status is revoked and appealed <br>\n",
    "5. INQ - License status is in enquiry <br>\n",
    "\n",
    "**Independent Variable(to predict):** <br>\n",
    "* Timeline of the application status <br>\n",
    "* Type of business <br>\n",
    "* Location details of the business <br>\n",
    "* Payment details <br>\n",
    "_______________________________________________________________________________________________________________________________"
   ]
  },
  {
   "cell_type": "code",
   "execution_count": 127,
   "metadata": {},
   "outputs": [
    {
     "data": {
      "text/plain": [
       "(85895, 32)"
      ]
     },
     "execution_count": 127,
     "metadata": {},
     "output_type": "execute_result"
    }
   ],
   "source": [
    "df.shape"
   ]
  },
  {
   "cell_type": "markdown",
   "metadata": {},
   "source": [
    "## Data Cleansing\n",
    "\n",
    "\n",
    "![title](../images/data-cleasing.png)\n",
    "\n",
    "1. Missing Values - lot of missing data for particular variables\n",
    "2. Unique Data - id (no meaning)\n",
    "3. Data leakage - The AAI alone doesn't have license status change value (as the license are never revoked/cancelled) "
   ]
  },
  {
   "cell_type": "code",
   "execution_count": 128,
   "metadata": {},
   "outputs": [
    {
     "data": {
      "text/plain": [
       "id                                       0\n",
       "license_id                               0\n",
       "account_number                           0\n",
       "site_number                              0\n",
       "legal_name                               0\n",
       "doing_business_as_name                   1\n",
       "address                                  0\n",
       "city                                     0\n",
       "state                                    0\n",
       "zip_code                                31\n",
       "ward                                 49701\n",
       "precinct                             56701\n",
       "ward_precinct                        49700\n",
       "police_district                      54012\n",
       "license_code                             0\n",
       "license_description                      0\n",
       "license_number                           1\n",
       "application_type                         0\n",
       "application_created_date             64660\n",
       "application_requirements_complete      214\n",
       "payment_date                          1289\n",
       "conditional_approval                     0\n",
       "license_term_start_date                228\n",
       "license_term_expiration_date            18\n",
       "license_approved_for_issuance         6789\n",
       "date_issued                              0\n",
       "license_status_change_date           55400\n",
       "ssa                                  76446\n",
       "latitude                             47246\n",
       "longitude                            47246\n",
       "location                             47246\n",
       "license_status                           0\n",
       "dtype: int64"
      ]
     },
     "execution_count": 128,
     "metadata": {},
     "output_type": "execute_result"
    }
   ],
   "source": [
    "df.isnull().sum()"
   ]
  },
  {
   "cell_type": "code",
   "execution_count": 129,
   "metadata": {},
   "outputs": [],
   "source": [
    "# Drop columns which are not relevent for the prediction / too many missing values\n",
    "drop_col_list = [\"id\",\"license_id\",\"ssa\",\"location\",\"application_created_date\",\"account_number\",\"address\"]\n",
    "df = df.drop(drop_col_list, axis=1)"
   ]
  },
  {
   "cell_type": "code",
   "execution_count": 130,
   "metadata": {},
   "outputs": [],
   "source": [
    "# just mapping whenever a True of False (null => True, else False) value exists to 1, 0\n",
    "df[\"license_status_change\"] = np.where(df.license_status_change_date.isnull(),1,0)"
   ]
  },
  {
   "cell_type": "code",
   "execution_count": 131,
   "metadata": {},
   "outputs": [
    {
     "data": {
      "text/html": [
       "<div>\n",
       "<style scoped>\n",
       "    .dataframe tbody tr th:only-of-type {\n",
       "        vertical-align: middle;\n",
       "    }\n",
       "\n",
       "    .dataframe tbody tr th {\n",
       "        vertical-align: top;\n",
       "    }\n",
       "\n",
       "    .dataframe thead th {\n",
       "        text-align: right;\n",
       "    }\n",
       "</style>\n",
       "<table border=\"1\" class=\"dataframe\">\n",
       "  <thead>\n",
       "    <tr style=\"text-align: right;\">\n",
       "      <th>license_status</th>\n",
       "      <th>AAC</th>\n",
       "      <th>AAI</th>\n",
       "      <th>INQ</th>\n",
       "      <th>REA</th>\n",
       "      <th>REV</th>\n",
       "    </tr>\n",
       "    <tr>\n",
       "      <th>license_status_change</th>\n",
       "      <th></th>\n",
       "      <th></th>\n",
       "      <th></th>\n",
       "      <th></th>\n",
       "      <th></th>\n",
       "    </tr>\n",
       "  </thead>\n",
       "  <tbody>\n",
       "    <tr>\n",
       "      <th>0</th>\n",
       "      <td>30200</td>\n",
       "      <td>0</td>\n",
       "      <td>2</td>\n",
       "      <td>3</td>\n",
       "      <td>290</td>\n",
       "    </tr>\n",
       "    <tr>\n",
       "      <th>1</th>\n",
       "      <td>0</td>\n",
       "      <td>55400</td>\n",
       "      <td>0</td>\n",
       "      <td>0</td>\n",
       "      <td>0</td>\n",
       "    </tr>\n",
       "  </tbody>\n",
       "</table>\n",
       "</div>"
      ],
      "text/plain": [
       "license_status           AAC    AAI  INQ  REA  REV\n",
       "license_status_change                             \n",
       "0                      30200      0    2    3  290\n",
       "1                          0  55400    0    0    0"
      ]
     },
     "execution_count": 131,
     "metadata": {},
     "output_type": "execute_result"
    }
   ],
   "source": [
    "pd.crosstab(df.license_status_change, df.license_status)"
   ]
  },
  {
   "cell_type": "markdown",
   "metadata": {},
   "source": [
    "## Data Transformation\n",
    "1. Timeline creation\n",
    "2. Encoding\n",
    "3. New Feature"
   ]
  },
  {
   "cell_type": "code",
   "execution_count": 132,
   "metadata": {},
   "outputs": [],
   "source": [
    "strings_cols =  [\"application_requirements_complete\", \n",
    "                 \"payment_date\", \n",
    "                 \"license_term_start_date\",\n",
    "                 \"license_term_expiration_date\",\n",
    "                 \"license_approved_for_issuance\",\n",
    "                 \"date_issued\"] \n",
    "\n",
    "def str_to_date_format(columns: list):\n",
    "    \"\"\"convert the strings columns format to pandas.datetimeindex format\n",
    "    e.g., \n",
    "    df[columns[i]][k]: '2002-06-28T00:00:00' to Timestamp('2002-06-28 00:00:00')\n",
    "\n",
    "    Args:\n",
    "        columns (list): df columns which contains date in str format\n",
    "    \"\"\"\n",
    "    for col in columns:\n",
    "        df[col] = pd.DatetimeIndex(df[col])\n",
    "\n",
    "str_to_date_format(strings_cols)\n"
   ]
  },
  {
   "cell_type": "code",
   "execution_count": 133,
   "metadata": {
    "scrolled": true
   },
   "outputs": [
    {
     "data": {
      "text/plain": [
       "pandas.core.series.Series"
      ]
     },
     "execution_count": 133,
     "metadata": {},
     "output_type": "execute_result"
    }
   ],
   "source": [
    "type(df['license_status'])"
   ]
  },
  {
   "cell_type": "code",
   "execution_count": 134,
   "metadata": {},
   "outputs": [
    {
     "data": {
      "text/plain": [
       "pandas.core.frame.DataFrame"
      ]
     },
     "execution_count": 134,
     "metadata": {},
     "output_type": "execute_result"
    }
   ],
   "source": [
    "type(df[['license_status']])"
   ]
  },
  {
   "cell_type": "code",
   "execution_count": 135,
   "metadata": {},
   "outputs": [],
   "source": [
    "# Find #days btw different application status date\n",
    "df[\"completion_to_start\"]   = (df.license_term_start_date - df.application_requirements_complete).dt.days\n",
    "df[\"start_to_expiry\"]       = (df.license_term_expiration_date - df.license_term_start_date).dt.days\n",
    "df[\"approval_to_issuance\"]  = (df.date_issued - df.license_approved_for_issuance).dt.days\n",
    "df[\"completion_to_payment\"] = (df.payment_date - df.application_requirements_complete).dt.days\n",
    "\n",
    "df[\"presence_of_enquiry_details\"] = np.where(df.ward.isnull() | df.ward_precinct.isnull() | df.police_district | df.precinct , 0 ,1 )"
   ]
  },
  {
   "cell_type": "markdown",
   "metadata": {},
   "source": [
    "## Target Encoding"
   ]
  },
  {
   "cell_type": "code",
   "execution_count": 136,
   "metadata": {},
   "outputs": [],
   "source": [
    "# creating one hot encondig \n",
    "df[\"target\"] = df[['license_status']].apply(lambda col:pd.Categorical(col).codes)"
   ]
  },
  {
   "cell_type": "code",
   "execution_count": 154,
   "metadata": {},
   "outputs": [
    {
     "name": "stderr",
     "output_type": "stream",
     "text": [
      "C:\\Users\\admed\\miniconda3\\envs\\venv_license_status\\lib\\site-packages\\category_encoders\\utils.py:21: FutureWarning: is_categorical is deprecated and will be removed in a future version.  Use is_categorical_dtype instead\n",
      "  elif pd.api.types.is_categorical(cols):\n"
     ]
    }
   ],
   "source": [
    "def target_enconding(df, cols_to_transform):\n",
    "  \"\"\"Function encodes the feature and returns dataframe\n",
    "\n",
    "  Args:\n",
    "      df (pandas dataframe): dataframe to be transformed\n",
    "      cols_to_transform (List): list of column to be transformed\n",
    "\n",
    "  Returns:\n",
    "      df (pandas dataframe): all given columns were transformed\n",
    "  \"\"\"\n",
    "  enc = ce.OneHotEncoder().fit(df.target.astype(str))\n",
    "  y_onehot = enc.transform(df.target.astype(str))\n",
    "  class_names = y_onehot.columns\n",
    "  for class_ in class_names:\n",
    "    enc = ce.TargetEncoder(smoothing=0)\n",
    "    temp = enc.fit_transform(df[cols_to_transform], y_onehot[class_])\n",
    "    temp.columns = [str(x) + \"_\" + str(class_) for x in temp.columns]\n",
    "    df = pd.concat([df, temp], axis = 1)\n",
    "  return df\n",
    "\n",
    "cols_to_transform = [\"license_description\", \"state\", \"city\"]\n",
    "\n",
    "df = target_enconding(df, cols_to_transform)"
   ]
  },
  {
   "cell_type": "markdown",
   "metadata": {},
   "source": [
    "## Imbalanced Classification\n",
    "\n",
    "As we can see, this problem does not have the same number of samples (data) for each class (of five). <br> The distribution (quantity) is disproportionate. **Resampling is required.**\n",
    "<br> Any machine learning algorithm is only as good as its data, and imbalanced data will inevitably lead to inaccurate results. "
   ]
  },
  {
   "cell_type": "code",
   "execution_count": 156,
   "metadata": {},
   "outputs": [
    {
     "data": {
      "text/plain": [
       "AAI    64.497%\n",
       "AAC    35.159%\n",
       "REV     0.338%\n",
       "REA     0.003%\n",
       "INQ     0.002%\n",
       "Name: license_status, dtype: object"
      ]
     },
     "execution_count": 156,
     "metadata": {},
     "output_type": "execute_result"
    }
   ],
   "source": [
    "df.license_status.value_counts(normalize=True).mul(100).round(3).astype(str) + \"%\""
   ]
  },
  {
   "cell_type": "markdown",
   "metadata": {},
   "source": [
    "## Over/Under Sampling"
   ]
  },
  {
   "cell_type": "code",
   "execution_count": 157,
   "metadata": {},
   "outputs": [
    {
     "data": {
      "text/plain": [
       "[0, 1, 2, 3, 4]"
      ]
     },
     "execution_count": 157,
     "metadata": {},
     "output_type": "execute_result"
    }
   ],
   "source": [
    "# recall targets value\n",
    "np.sort(df.target.unique()).tolist()"
   ]
  },
  {
   "cell_type": "code",
   "execution_count": 158,
   "metadata": {},
   "outputs": [
    {
     "name": "stdout",
     "output_type": "stream",
     "text": [
      "(26960, 62)\n"
     ]
    }
   ],
   "source": [
    "# Undersampling\n",
    "df_0 = df[df.target==0].sample(frac=0.3,replace=False)\n",
    "df_1 = df[df.target==1].sample(frac=0.3,replace=False)\n",
    "\n",
    "# oversamplig\n",
    "df_2 = df[df.target==2].sample(frac=200,replace=True)\n",
    "df_3 = df[df.target==3].sample(frac=100,replace=True)\n",
    "df_4 = df[df.target==4].sample(frac=2,replace=True)\n",
    "\n",
    "sampled_df = pd.concat([df_0,df_1,df_2,df_3,df_4])\n",
    "\n",
    "sampled_df.target.value_counts()\n",
    "print(sampled_df.shape)"
   ]
  }
 ],
 "metadata": {
  "interpreter": {
   "hash": "3d177ab2f3e7f543f281abb6be5ab714d08f14aec46f97809ade932876777a28"
  },
  "kernelspec": {
   "display_name": "Python 3.9.10 ('venv': venv)",
   "language": "python",
   "name": "python3"
  },
  "language_info": {
   "codemirror_mode": {
    "name": "ipython",
    "version": 3
   },
   "file_extension": ".py",
   "mimetype": "text/x-python",
   "name": "python",
   "nbconvert_exporter": "python",
   "pygments_lexer": "ipython3",
   "version": "3.9.7"
  }
 },
 "nbformat": 4,
 "nbformat_minor": 4
}
